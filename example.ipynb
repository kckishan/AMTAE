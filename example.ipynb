{
 "cells": [
  {
   "cell_type": "code",
   "execution_count": 2,
   "metadata": {},
   "outputs": [],
   "source": [
    "import pandas as pd"
   ]
  },
  {
   "cell_type": "code",
   "execution_count": null,
   "metadata": {},
   "outputs": [],
   "source": []
  },
  {
   "cell_type": "code",
   "execution_count": 40,
   "metadata": {},
   "outputs": [
    {
     "data": {
      "text/html": [
       "<div>\n",
       "<style scoped>\n",
       "    .dataframe tbody tr th:only-of-type {\n",
       "        vertical-align: middle;\n",
       "    }\n",
       "\n",
       "    .dataframe tbody tr th {\n",
       "        vertical-align: top;\n",
       "    }\n",
       "\n",
       "    .dataframe thead th {\n",
       "        text-align: right;\n",
       "    }\n",
       "</style>\n",
       "<table border=\"1\" class=\"dataframe\">\n",
       "  <thead>\n",
       "    <tr style=\"text-align: right;\">\n",
       "      <th></th>\n",
       "      <th>0</th>\n",
       "      <th>1</th>\n",
       "      <th>2</th>\n",
       "      <th>3</th>\n",
       "      <th>4</th>\n",
       "      <th>5</th>\n",
       "    </tr>\n",
       "  </thead>\n",
       "  <tbody>\n",
       "    <tr>\n",
       "      <th>0</th>\n",
       "      <td>0.165768</td>\n",
       "      <td>0.166969</td>\n",
       "      <td>0.165415</td>\n",
       "      <td>0.167101</td>\n",
       "      <td>0.167266</td>\n",
       "      <td>0.167481</td>\n",
       "    </tr>\n",
       "    <tr>\n",
       "      <th>1</th>\n",
       "      <td>0.166608</td>\n",
       "      <td>0.165875</td>\n",
       "      <td>0.166976</td>\n",
       "      <td>0.166603</td>\n",
       "      <td>0.166779</td>\n",
       "      <td>0.167158</td>\n",
       "    </tr>\n",
       "    <tr>\n",
       "      <th>2</th>\n",
       "      <td>0.160555</td>\n",
       "      <td>0.161417</td>\n",
       "      <td>0.160775</td>\n",
       "      <td>0.161540</td>\n",
       "      <td>0.193847</td>\n",
       "      <td>0.161866</td>\n",
       "    </tr>\n",
       "    <tr>\n",
       "      <th>3</th>\n",
       "      <td>0.145781</td>\n",
       "      <td>0.151586</td>\n",
       "      <td>0.154961</td>\n",
       "      <td>0.170437</td>\n",
       "      <td>0.225362</td>\n",
       "      <td>0.151872</td>\n",
       "    </tr>\n",
       "    <tr>\n",
       "      <th>4</th>\n",
       "      <td>0.155530</td>\n",
       "      <td>0.155614</td>\n",
       "      <td>0.155623</td>\n",
       "      <td>0.155722</td>\n",
       "      <td>0.225426</td>\n",
       "      <td>0.152085</td>\n",
       "    </tr>\n",
       "  </tbody>\n",
       "</table>\n",
       "</div>"
      ],
      "text/plain": [
       "          0         1         2         3         4         5\n",
       "0  0.165768  0.166969  0.165415  0.167101  0.167266  0.167481\n",
       "1  0.166608  0.165875  0.166976  0.166603  0.166779  0.167158\n",
       "2  0.160555  0.161417  0.160775  0.161540  0.193847  0.161866\n",
       "3  0.145781  0.151586  0.154961  0.170437  0.225362  0.151872\n",
       "4  0.155530  0.155614  0.155623  0.155722  0.225426  0.152085"
      ]
     },
     "execution_count": 40,
     "metadata": {},
     "output_type": "execute_result"
    }
   ],
   "source": [
    "attn = pd.read_csv(\"results/attn_weights_2000_600.txt\", header=None,sep=\" \")\n",
    "attn.head()"
   ]
  },
  {
   "cell_type": "code",
   "execution_count": 41,
   "metadata": {},
   "outputs": [],
   "source": [
    "attn = attn.values"
   ]
  },
  {
   "cell_type": "code",
   "execution_count": 45,
   "metadata": {},
   "outputs": [
    {
     "data": {
      "text/plain": [
       "array([0.16541517, 0.16587456, 0.16055502, ..., 0.14975676, 0.15837562,\n",
       "       0.15295577])"
      ]
     },
     "execution_count": 45,
     "metadata": {},
     "output_type": "execute_result"
    }
   ],
   "source": [
    "attn.min(1)"
   ]
  },
  {
   "cell_type": "code",
   "execution_count": 46,
   "metadata": {},
   "outputs": [
    {
     "data": {
      "text/plain": [
       "array([0.16748063, 0.16715789, 0.19384657, ..., 0.23997329, 0.19034567,\n",
       "       0.23160891])"
      ]
     },
     "execution_count": 46,
     "metadata": {},
     "output_type": "execute_result"
    }
   ],
   "source": [
    "attn.max(1)"
   ]
  },
  {
   "cell_type": "code",
   "execution_count": 25,
   "metadata": {},
   "outputs": [],
   "source": [
    "import matplotlib.pyplot as plt"
   ]
  },
  {
   "cell_type": "code",
   "execution_count": 26,
   "metadata": {},
   "outputs": [],
   "source": [
    "# ['neighborhood', 'fusion', 'cooccurence', 'coexpression', 'experimental', 'database']"
   ]
  },
  {
   "cell_type": "code",
   "execution_count": 38,
   "metadata": {},
   "outputs": [
    {
     "data": {
      "image/png": "[encoded data removed]",
      "text/plain": [
       "<Figure size 432x864 with 2 Axes>"
      ]
     },
     "metadata": {},
     "output_type": "display_data"
    }
   ],
   "source": [
    "plt.figure(figsize=(6,12))\n",
    "plt.imshow(attn[:,:][:20,:], cmap=\"Blues\")\n",
    "plt.colorbar()\n",
    "plt.savefig(\"results/attn_matrix.png\")\n",
    "plt.show()"
   ]
  }
 ],
 "metadata": {
  "anaconda-cloud": {},
  "kernelspec": {
   "display_name": "Python 3",
   "language": "python",
   "name": "python3"
  },
  "language_info": {
   "codemirror_mode": {
    "name": "ipython",
    "version": 3
   },
   "file_extension": ".py",
   "mimetype": "text/x-python",
   "name": "python",
   "nbconvert_exporter": "python",
   "pygments_lexer": "ipython3",
   "version": "3.6.5"
  }
 },
 "nbformat": 4,
 "nbformat_minor": 2
}
